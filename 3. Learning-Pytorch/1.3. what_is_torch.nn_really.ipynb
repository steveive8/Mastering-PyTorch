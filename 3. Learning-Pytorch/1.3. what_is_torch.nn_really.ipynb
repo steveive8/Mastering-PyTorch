{
 "metadata": {
  "language_info": {
   "codemirror_mode": {
    "name": "ipython",
    "version": 3
   },
   "file_extension": ".py",
   "mimetype": "text/x-python",
   "name": "python",
   "nbconvert_exporter": "python",
   "pygments_lexer": "ipython3",
   "version": "3.8.8"
  },
  "orig_nbformat": 4,
  "kernelspec": {
   "name": "python3",
   "display_name": "Python 3.8.8 64-bit ('buddhalight': conda)"
  },
  "interpreter": {
   "hash": "38ed4d61829b01de31b0fe0651719916120d9f7e023a62cbbfea93b7d24a50a0"
  }
 },
 "nbformat": 4,
 "nbformat_minor": 2,
 "cells": [
  {
   "cell_type": "markdown",
   "source": [
    "# Mastering PyTorch\r\n",
    "\r\n",
    "Edited by Steve Ive\r\n",
    "\r\n",
    "This document was edited to understand better for beginner of torch and basic concepts of deep learning base on original document below.\r\n",
    "\r\n",
    "https://pytorch.org/tutorials/beginner/nn_tutorial.html\r\n",
    "\r\n",
    "# WHAT IS TORCH.NN REALLY?\r\n",
    "by Jeremy Howard, fast.ai. Thanks to Rachel Thomas and Francisco Ingham.\r\n",
    "\r\n",
    "We recommend running this tutorial as a notebook, not a script. To download the notebook (.ipynb) file, click the link at the top of the page.\r\n",
    "\r\n",
    "PyTorch provides the elegantly designed modules and classes torch.nn , torch.optim , Dataset , and DataLoader to help you create and train neural networks. In order to fully utilize their power and customize them for your problem, you need to really understand exactly what they’re doing. To develop this understanding, we will first train basic neural net on the MNIST data set without using any features from these models; we will initially only use the most basic PyTorch tensor functionality. Then, we will incrementally add one feature from torch.nn, torch.optim, Dataset, or DataLoader at a time, showing exactly what each piece does, and how it works to make the code either more concise, or more flexible.\r\n",
    "\r\n",
    "**This tutorial assumes you already have PyTorch installed, and are familiar with the basics of tensor operations.** (If you’re familiar with Numpy array operations, you’ll find the PyTorch tensor operations used here nearly identical).\r\n",
    "\r\n",
    "MNIST data setup\r\n",
    "We will use the classic MNIST dataset, which consists of black-and-white images of hand-drawn digits (between 0 and 9).\r\n",
    "\r\n",
    "We will use pathlib for dealing with paths (part of the Python 3 standard library), and will download the dataset using requests. We will only import modules when we use them, so you can see exactly what’s being used at each point."
   ],
   "metadata": {}
  },
  {
   "cell_type": "markdown",
   "source": [
    "# MNIST data setup\n",
    "\n",
    "We will use the classic MNIST dataset, which consists of black-and-white images of hand-drawn digits (between 0 and 9).\n",
    "\n",
    "We will use pathlib for dealing with paths (part of the Python 3 standard library), and will download the dataset using requests. We will only import modules when we use them, so you can see exactly what’s being used at each point."
   ],
   "metadata": {}
  },
  {
   "cell_type": "code",
   "execution_count": 1,
   "source": [
    "from pathlib import Path\r\n",
    "import requests\r\n",
    "\r\n",
    "DATA_PATH = Path(\"data\")\r\n",
    "PATH = DATA_PATH / \"mnist\"\r\n",
    "\r\n",
    "PATH.mkdir(parents=True, exist_ok=True)\r\n",
    "\r\n",
    "URL = \"https://github.com/pytorch/tutorials/raw/master/_static/\"\r\n",
    "\r\n",
    "FILENAME = \"mnist.pkl.gz\"\r\n",
    "\r\n",
    "if not (PATH / FILENAME).exists():\r\n",
    "    content = requests.get(URL + FILENAME).content\r\n",
    "    (PATH / FILENAME).open(\"wb\").write(content)"
   ],
   "outputs": [],
   "metadata": {}
  },
  {
   "cell_type": "markdown",
   "source": [
    "This dataset is in numpy array format, and has been stored using pickle, a python-specific format for serializing data."
   ],
   "metadata": {}
  },
  {
   "cell_type": "code",
   "execution_count": 2,
   "source": [
    "import pickle\r\n",
    "import gzip\r\n",
    "\r\n",
    "with gzip.open((PATH / FILENAME).as_posix(), 'rb') as f:\r\n",
    "    ((x_train, y_train), (x_valid, y_valid), _) = pickle.load(f, encoding=\"latin-1\")"
   ],
   "outputs": [],
   "metadata": {}
  },
  {
   "cell_type": "markdown",
   "source": [
    "Each image is 28 x 28, and is being stored as a flattened row of length 784 (=28x28). Let’s take a look at one; we need to reshape it to 2d first."
   ],
   "metadata": {}
  },
  {
   "cell_type": "code",
   "execution_count": 3,
   "source": [
    "from matplotlib import pyplot\r\n",
    "import numpy as np\r\n",
    "\r\n",
    "pyplot.imshow(x_train[0].reshape((28, 28)), cmap=\"gray\")\r\n",
    "print(x_train.shape)"
   ],
   "outputs": [
    {
     "output_type": "stream",
     "name": "stdout",
     "text": [
      "(50000, 784)\n"
     ]
    },
    {
     "output_type": "display_data",
     "data": {
      "text/plain": [
       "<Figure size 432x288 with 1 Axes>"
      ],
      "image/png": "[encoded data removed]"
     },
     "metadata": {
      "needs_background": "light"
     }
    }
   ],
   "metadata": {}
  },
  {
   "cell_type": "markdown",
   "source": [
    "PyTorch uses torch.tensor, rather than numpy arrays, so we need to convert our data."
   ],
   "metadata": {}
  },
  {
   "cell_type": "markdown",
   "source": [
    "### Take a Moment!\n",
    "\n",
    "### Python map() function\n",
    "\n",
    "```map()``` function returns a map object(which is an iterator) of the results after applying the given function to each item of a given iterable (list, tuple etc.)\n",
    "\n",
    "**Syntax** :\n",
    "\n",
    "> ```map(fun, iter)```\n",
    "\n",
    "**Parameters** :\n",
    "\n",
    "> fun : It is a function to which map passes each element of given iterable.\n",
    "\n",
    "> iter : It is a iterable which is to be mapped.\n",
    "\n",
    "**NOTE** : You can pass one or more iterable to the map() function.\n",
    "\n",
    "**Returns** :\n",
    "\n",
    "> Returns a list of the results after applying the given function  \n",
    "to each item of a given iterable (list, tuple etc.) \n",
    " \n",
    "**NOTE** : The returned value from map() (map object) then can be passed to functions like list() (to create a list), set() (to create a set) .\n",
    " "
   ],
   "metadata": {}
  },
  {
   "cell_type": "markdown",
   "source": [
    "### Take a Moment! \n",
    "### ```torch.tensor()``` function\n",
    "\n",
    "> ```torch.tensor(data, *, dtype=None, device=None, requires_grad=False, pin_memory=False)``` → Tensor\n",
    "\n",
    "Constructs a tensor with data.\n",
    "\n",
    "**Parameters**\n",
    "> **data (```array_like```)** – Initial data for the tensor. Can be a list, tuple, NumPy ndarray, scalar, and other types.\n",
    "\n",
    "**Keyword Arguments**\n",
    "- **dtype (```torch.dtype```, optional)** – the desired data type of returned tensor. Default: ***if None, infers data type from data.***\n",
    "\n",
    "- **device** (```torch.device```, optional) – the desired device of returned tensor. Default: if None, uses the current device for the default tensor type (see torch.set_default_tensor_type()). device will be the CPU for CPU tensor types and the current CUDA device for CUDA tensor types.\n",
    "\n",
    "- **requires_grad** (bool, optional) – If autograd should record operations on the returned tensor. Default: False.\n",
    "\n",
    "- **pin_memory** (bool, optional) – If set, returned tensor would be allocated in the pinned memory. Works only for CPU tensors. Default: False.\n",
    "\n",
    "---\n",
    "\n",
    "### TORCH.TENSOR datatype\n",
    "A ```torch.Tensor``` is a multi-dimensional matrix containing elements of a single **data type**."
   ],
   "metadata": {}
  },
  {
   "cell_type": "code",
   "execution_count": 4,
   "source": [
    "import torch\r\n",
    "\r\n",
    "x_train, y_train, x_valid, y_valid = map(\r\n",
    "    torch.tensor, (x_train, y_train, x_valid, y_valid)\r\n",
    ")\r\n",
    "n, c = x_train.shape\r\n",
    "print(x_train, y_train)\r\n",
    "print(x_train.shape)\r\n",
    "print(x_train.min(), y_train.max())"
   ],
   "outputs": [
    {
     "output_type": "stream",
     "name": "stdout",
     "text": [
      "tensor([[0., 0., 0.,  ..., 0., 0., 0.],\n",
      "        [0., 0., 0.,  ..., 0., 0., 0.],\n",
      "        [0., 0., 0.,  ..., 0., 0., 0.],\n",
      "        ...,\n",
      "        [0., 0., 0.,  ..., 0., 0., 0.],\n",
      "        [0., 0., 0.,  ..., 0., 0., 0.],\n",
      "        [0., 0., 0.,  ..., 0., 0., 0.]]) tensor([5, 0, 4,  ..., 8, 4, 8])\n",
      "torch.Size([50000, 784])\n",
      "tensor(0.) tensor(9)\n"
     ]
    }
   ],
   "metadata": {}
  },
  {
   "cell_type": "markdown",
   "source": [
    "# Neural net from scratch (no torch.nn)\n",
    "Let’s first create a model using nothing but PyTorch tensor operations. We’re assuming you’re already familiar with the basics of neural networks. (If you’re not, you can learn them at course.fast.ai).\n",
    "\n",
    "PyTorch provides methods to create random or zero-filled tensors, which we will use to create our weights and bias for a simple linear model. These are just regular tensors, with one very special addition: we tell PyTorch that they require a gradient. This causes PyTorch to record all of the operations done on the tensor, so that it can calculate the gradient during back-propagation automatically!\n",
    "\n",
    "For the weights, we set requires_grad **after** the initialization, since we don’t want that step included in the gradient. (Note that a trailing _ in PyTorch signifies that the operation is performed in-place.)\n",
    "\n",
    "**NOTE**\n",
    "\n",
    "We are initializing the weights here with Xavier initialisation (by multiplying with 1/sqrt(n)).\n"
   ],
   "metadata": {}
  },
  {
   "cell_type": "markdown",
   "source": [
    "### Take a Moment!\n",
    "### TORCH.TENSOR.REQUIRES_GRAD_\n",
    "\n",
    "```Tensor.requires_grad_```(requires_grad=True) → Tensor\n",
    "\n",
    "Change if autograd should record operations on this tensor: sets this tensor’s requires_grad attribute in-place. Returns this tensor.\n",
    "\n",
    "requires_grad_()’s main use case is to tell autograd to begin recording operations on a Tensor tensor. If tensor has requires_grad=False (because it was obtained through a DataLoader, or required preprocessing or initialization), tensor.requires_grad_() makes it so that autograd will begin to record operations on tensor.\n",
    "\n",
    "Parameters\n",
    "**requires_grad** (bool) – If autograd should record operations on this tensor. Default: True.\n",
    "\n",
    "Example:\n",
    "\n",
    "```\n",
    "# Let's say we want to preprocess some saved weights and use\n",
    "\n",
    "# the result as new weights.\n",
    "\n",
    "saved_weights = [0.1, 0.2, 0.3, 0.25]\n",
    "loaded_weights = torch.tensor(saved_weights)\n",
    "\n",
    "weights = preprocess(loaded_weights)  # some function\n",
    "weights\n",
    "tensor([-0.5503,  0.4926, -2.1158, -0.8303])\n",
    "```\n",
    "\n",
    "```\n",
    "# Now, start to record operations done to weights\n",
    "\n",
    "weights.requires_grad_()\n",
    "out = weights.pow(2).sum()\n",
    "out.backward()\n",
    "weights.grad\n",
    "tensor([-1.1007,  0.9853, -4.2316, -1.6606])\n",
    "```"
   ],
   "metadata": {}
  },
  {
   "cell_type": "code",
   "execution_count": 5,
   "source": [
    "import math\r\n",
    "\r\n",
    "weights = torch.randn(784, 10) / math.sqrt(784)\r\n",
    "weights.requires_grad_()\r\n",
    "bias = torch.zeros(10, requires_grad=True)"
   ],
   "outputs": [],
   "metadata": {}
  },
  {
   "cell_type": "markdown",
   "source": [
    "Thanks to PyTorch’s ability to calculate gradients automatically, we can use any standard Python function (or callable object) as a model! So let’s just write a plain matrix multiplication and broadcasted addition to create a simple linear model. We also need an activation function, so we’ll write log_softmax and use it. Remember: although PyTorch provides lots of pre-written loss functions, activation functions, and so forth, you can easily write your own using plain python. PyTorch will even create fast GPU or vectorized CPU code for your function automatically."
   ],
   "metadata": {}
  },
  {
   "cell_type": "code",
   "execution_count": 6,
   "source": [
    "def log_softmax(x):\r\n",
    "    return x - x.exp().sum(-1).log().unsqueeze(-1)\r\n",
    "\r\n",
    "def model(xb):\r\n",
    "    return log_softmax(xb @ weights + bias)"
   ],
   "outputs": [],
   "metadata": {}
  },
  {
   "cell_type": "markdown",
   "source": [
    "In the above, the @ stands for the dot product operation. We will call our function on one batch of data (in this case, 64 images). This is one forward pass. Note that our predictions won’t be any better than random at this stage, since we start with random weights."
   ],
   "metadata": {}
  },
  {
   "cell_type": "code",
   "execution_count": 7,
   "source": [
    "bs = 64\r\n",
    "\r\n",
    "xb = x_train[0:bs]\r\n",
    "preds = model(xb)\r\n",
    "preds[0], preds.shape\r\n",
    "print(preds[0], preds.shape)"
   ],
   "outputs": [
    {
     "output_type": "stream",
     "name": "stdout",
     "text": [
      "tensor([-2.8403, -2.5136, -2.2208, -2.2750, -1.8710, -2.4492, -2.2877, -2.9553,\n",
      "        -2.1629, -1.9633], grad_fn=<SelectBackward>) torch.Size([64, 10])\n"
     ]
    }
   ],
   "metadata": {}
  },
  {
   "cell_type": "markdown",
   "source": [
    "As you see, the preds tensor contains not only the tensor values, but also a gradient function. We’ll use this later to do backprop.\n",
    "\n",
    "Let’s implement negative log-likelihood to use as the loss function (again, we can just use standard Python):"
   ],
   "metadata": {}
  },
  {
   "cell_type": "markdown",
   "source": [
    "### Take a Moment!\n",
    "\n",
    "```preds[range(target.shape[0]), target]```\n",
    "\n",
    "This is an indices itself to index of an specific matrix or a vector.\n",
    "\n",
    "so, if ```np.array([range(target.shape[0]), target])``` or just as a list like ```[range(target.shape[0]), target]``` will only show the itself, as\n",
    "\n",
    "```\n",
    "[range(0, 64), tensor([5, 0, 4, 1, 9, 2, 1, 3, 1, 4, 3, 5, 3, 6, 1, 7, 2, 8, 6, 9, 4, 0, 9, 1,\n",
    "        1, 2, 4, 3, 2, 7, 3, 8, 6, 9, 0, 5, 6, 0, 7, 6, 1, 8, 7, 9, 3, 9, 8, 5,\n",
    "        9, 3, 3, 0, 7, 4, 9, 8, 0, 9, 4, 1, 4, 4, 6, 0])]```\n",
    "\n"
   ],
   "metadata": {}
  },
  {
   "cell_type": "code",
   "execution_count": 8,
   "source": [
    "def nll(input, target):\r\n",
    "    return -input[range(target.shape[0]), target].mean()\r\n",
    "\r\n",
    "loss_func = nll"
   ],
   "outputs": [],
   "metadata": {}
  },
  {
   "cell_type": "markdown",
   "source": [
    "Let’s check our loss with our random model, so we can see if we improve after a backprop pass later."
   ],
   "metadata": {}
  },
  {
   "cell_type": "code",
   "execution_count": 9,
   "source": [
    "yb = y_train[0:bs]\r\n",
    "print(loss_func(preds, yb))"
   ],
   "outputs": [
    {
     "output_type": "stream",
     "name": "stdout",
     "text": [
      "tensor(2.4214, grad_fn=<NegBackward>)\n"
     ]
    }
   ],
   "metadata": {}
  },
  {
   "cell_type": "markdown",
   "source": [
    "Let’s also implement a function to calculate the accuracy of our model. For each prediction, if the index with the largest value matches the target value, then the prediction was correct."
   ],
   "metadata": {}
  },
  {
   "cell_type": "code",
   "execution_count": 10,
   "source": [
    "def accuracy(out, yb):\r\n",
    "    preds = torch.argmax(out, dim=1)\r\n",
    "    return (preds == yb).float().mean()"
   ],
   "outputs": [],
   "metadata": {}
  },
  {
   "cell_type": "markdown",
   "source": [
    "Let’s check the accuracy of our random model, so we can see if our accuracy improves as our loss improves.\n",
    "\n"
   ],
   "metadata": {}
  },
  {
   "cell_type": "code",
   "execution_count": 11,
   "source": [
    "print(accuracy(preds, yb))"
   ],
   "outputs": [
    {
     "output_type": "stream",
     "name": "stdout",
     "text": [
      "tensor(0.0625)\n"
     ]
    }
   ],
   "metadata": {}
  },
  {
   "cell_type": "markdown",
   "source": [
    "We can now run a training loop. For each iteration, we will:\n",
    "\n",
    "select a mini-batch of data (of size bs)\n",
    "use the model to make predictions\n",
    "calculate the loss\n",
    "loss.backward() updates the gradients of the model, in this case, weights and bias.\n",
    "We now use these gradients to update the weights and bias. We do this within the torch.no_grad() context manager, **because we do not want these actions to be recorded for our next calculation of the gradient.** You can read more about how PyTorch’s Autograd records operations here. https://pytorch.org/docs/stable/notes/autograd.html\n",
    "\n",
    "We then set the gradients to zero, so that we are ready for the next loop. Otherwise, our gradients would record a running tally of all the operations that had happened (i.e. loss.backward() adds the gradients to whatever is already stored, rather than replacing them).\n",
    "\n",
    "**TIP**\n",
    "\n",
    "You can use the standard python debugger to step through PyTorch code, allowing you to check the various variable values at each step. Uncomment set_trace() below to try it out."
   ],
   "metadata": {}
  },
  {
   "cell_type": "code",
   "execution_count": 12,
   "source": [
    "from IPython.core.debugger import set_trace\r\n",
    "\r\n",
    "lr=0.5\r\n",
    "epochs = 2\r\n",
    "\r\n",
    "for epoch in range(epochs):\r\n",
    "    for i in range((n - 1) // bs + 1):\r\n",
    "        # set_trace()\r\n",
    "        start_i = i *bs\r\n",
    "        end_i = start_i + bs\r\n",
    "        xb = x_train[start_i:end_i]\r\n",
    "        yb = y_train[start_i:end_i]\r\n",
    "        pred = model(xb)\r\n",
    "        loss = loss_func(pred, yb)\r\n",
    "        loss.backward() ## take backward() since loss return the torch.Tensor\r\n",
    "\r\n",
    "        with torch.no_grad():\r\n",
    "            weights -= weights.grad * lr\r\n",
    "            bias -= bias.grad * lr\r\n",
    "            weights.grad.zero_()\r\n",
    "            bias.grad.zero_()\r\n"
   ],
   "outputs": [],
   "metadata": {}
  },
  {
   "cell_type": "markdown",
   "source": [
    "### Take a Moment!\n",
    "\n",
    "### NO_GRAD\n",
    "CLASS ```torch.no_grad```\n",
    "Context-manager that disabled gradient calculation.\n",
    "\n",
    "Disabling gradient calculation is useful for inference, when you are sure that you will not call Tensor.backward(). It will reduce memory consumption for computations that would otherwise have requires_grad=True.\n",
    "\n",
    "In this mode, the result of every computation will have requires_grad=False, even when the inputs have requires_grad=True.\n",
    "\n",
    "This context manager is thread local; it will not affect computation in other threads.\n",
    "\n",
    "Also functions as a decorator. (Make sure to instantiate with parenthesis.)\n",
    "\n",
    "\n",
    "### TORCH.TENSOR.BACKWARD\n",
    "\n",
    "```Tensor.backward(gradient=None, retain_graph=None, create_graph=False, inputs=None)```\n",
    "Computes the gradient of current tensor w.r.t. graph leaves.\n",
    "\n",
    "The graph is differentiated using the chain rule. If the tensor is non-scalar (i.e. its data has more than one element) and requires gradient, the function additionally requires specifying gradient. It should be a tensor of matching type and location, that contains the gradient of the differentiated function w.r.t. self.\n",
    "\n",
    "This function accumulates gradients in the leaves - you might need to zero .grad attributes or set them to None before calling it. See Default gradient layouts for details on the memory layout of accumulated gradients.\n",
    "\n",
    "**NOTE**\n",
    "\n",
    "If you run any forward ops, create gradient, and/or call backward in a user-specified CUDA stream context, see Stream semantics of backward passes.\n",
    "\n",
    "#### Parameters\n",
    "- **gradient** (Tensor or None) – Gradient w.r.t. the tensor. If it is a tensor, it will be automatically converted to a Tensor that does not require grad unless create_graph is True. None values can be specified for scalar Tensors or ones that don’t require grad. If a None value would be acceptable then this argument is optional.\n",
    "\n",
    "- **retain_graph** (bool, optional) – If False, the graph used to compute the grads will be freed. Note that in nearly all cases setting this option to True is not needed and often can be worked around in a much more efficient way. Defaults to the value of create_graph.\n",
    "\n",
    "- **create_graph** (bool, optional) – If True, graph of the derivative will be constructed, allowing to compute higher order derivative products. Defaults to False.\n",
    "\n",
    "- **inputs** (sequence of Tensor) – Inputs w.r.t. which the gradient will be accumulated into .grad. All other Tensors will be ignored. If not provided, the gradient is accumulated into all the leaf Tensors that were used to compute the attr::tensors. All the provided inputs must be leaf Tensors."
   ],
   "metadata": {}
  },
  {
   "cell_type": "markdown",
   "source": [
    "That’s it: we’ve created and trained a minimal neural network (in this case, a logistic regression, since we have no hidden layers) entirely from scratch!\n",
    "\n",
    "Let’s check the loss and accuracy and compare those to what we got earlier. We expect that the loss will have decreased and accuracy to have increased, and they have."
   ],
   "metadata": {}
  },
  {
   "cell_type": "markdown",
   "source": [
    "### Take a Moment!\n",
    "\n",
    "Why this is logit regression?\n",
    "\n",
    "--- add\n",
    "\n"
   ],
   "metadata": {}
  },
  {
   "cell_type": "code",
   "execution_count": 13,
   "source": [
    "print(loss_func(model(xb), yb), accuracy(model(xb), yb))"
   ],
   "outputs": [
    {
     "output_type": "stream",
     "name": "stdout",
     "text": [
      "tensor(0.0801, grad_fn=<NegBackward>) tensor(1.)\n"
     ]
    }
   ],
   "metadata": {}
  },
  {
   "cell_type": "markdown",
   "source": [
    "## Using torch.nn.functional\n",
    "We will now refactor our code, so that it does the same thing as before, only we’ll start taking advantage of PyTorch’s nn classes to make it more concise and flexible. At each step from here, we should be making our code one or more of: shorter, more understandable, and/or more flexible.\n",
    "\n",
    "The first and easiest step is to make our code shorter by replacing our hand-written activation and loss functions with those from torch.nn.functional (which is generally imported into the namespace F by convention). This module contains all the functions in the torch.nn library (whereas other parts of the library contain classes). As well as a wide range of loss and activation functions, you’ll also find here some convenient functions for creating neural nets, such as pooling functions. (There are also functions for doing convolutions, linear layers, etc, but as we’ll see, these are usually better handled using other parts of the library.)\n",
    "\n",
    "If you’re using negative log likelihood loss and log softmax activation, then Pytorch provides **a single function F.cross_entropy that combines the two. So we can even remove the activation function from our model.**"
   ],
   "metadata": {}
  },
  {
   "cell_type": "code",
   "execution_count": 14,
   "source": [
    "import torch.nn.functional as F\r\n",
    "\r\n",
    "loss_func = F.cross_entropy\r\n",
    "\r\n",
    "def model(xb):\r\n",
    "    return xb @ weights + bias"
   ],
   "outputs": [],
   "metadata": {}
  },
  {
   "cell_type": "markdown",
   "source": [
    "Note that we no longer call ```log_softmax``` in the ```model``` function. Let's confirm that our loss and accuracy are the same as before:"
   ],
   "metadata": {}
  },
  {
   "cell_type": "markdown",
   "source": [
    "### Take a Moment!\n",
    "\n",
    "Before, we defined the **model** that the form of dot producted result in the log_softmax,\n",
    "and give it to the loss function that is the negative likelihood with the yb.\n",
    "\n",
    "However the ```cross_entropy``` above contains the log_softmax in it, as we can just define the model as ```xb @ weights + bias```."
   ],
   "metadata": {}
  },
  {
   "cell_type": "code",
   "execution_count": 15,
   "source": [
    "print(loss_func(model(xb), yb), accuracy(model(xb), yb))"
   ],
   "outputs": [
    {
     "output_type": "stream",
     "name": "stdout",
     "text": [
      "tensor(0.0801, grad_fn=<NllLossBackward>) tensor(1.)\n"
     ]
    }
   ],
   "metadata": {}
  },
  {
   "cell_type": "markdown",
   "source": [
    "## Refactor using nn.Module\n",
    "\n",
    "Next up, we’ll use nn.Module and nn.Parameter, for a clearer and more concise training loop. We subclass nn.Module (which itself is a class and able to keep track of state). In this case, we want to create a class that holds our weights, bias, and method for the forward step. nn.Module has a number of attributes and methods (such as .parameters() and .zero_grad()) which we will be using.\n",
    "\n",
    "**NOTE**\n",
    "\n",
    "nn.Module (uppercase M) is a PyTorch specific concept, and is a class we’ll be using a lot. nn.Module is not to be confused with the Python concept of a (lowercase m) module, which is a file of Python code that can be imported.\n"
   ],
   "metadata": {}
  },
  {
   "cell_type": "code",
   "execution_count": 16,
   "source": [
    "from torch import nn\r\n",
    "\r\n",
    "class Mnist_Logistic(nn.Module):\r\n",
    "    def __init__(self):\r\n",
    "        super().__init__()\r\n",
    "        self.weights = nn.Parameter(torch.randn(784, 10) / math.sqrt(784))\r\n",
    "        self.bias = nn.Parameter(torch.zeros(10))\r\n",
    "\r\n",
    "    def forward(self, xb):\r\n",
    "        return xb @ self.weights + self.bias"
   ],
   "outputs": [],
   "metadata": {}
  },
  {
   "cell_type": "markdown",
   "source": [
    "Since we're now using an object instead of just using a function, we first have to instantiate our model:"
   ],
   "metadata": {}
  },
  {
   "cell_type": "code",
   "execution_count": 17,
   "source": [
    "model = Mnist_Logistic()"
   ],
   "outputs": [],
   "metadata": {}
  },
  {
   "cell_type": "markdown",
   "source": [
    "Now we can calculate the loss in the same way as before. Note that ```nn.Module``` objects are used as if they are functions (i.e they are ***callable***), but behind the scenes Pytorch will call our ```forward``` method automatically."
   ],
   "metadata": {}
  },
  {
   "cell_type": "code",
   "execution_count": 18,
   "source": [
    "print(loss_func(model(xb), yb))"
   ],
   "outputs": [
    {
     "output_type": "stream",
     "name": "stdout",
     "text": [
      "tensor(2.2449, grad_fn=<NllLossBackward>)\n"
     ]
    }
   ],
   "metadata": {}
  },
  {
   "cell_type": "markdown",
   "source": [
    "Previously for our training loop we had to update the values for each parameter by name, and manually zero out the grads for each parameter separately, like this:"
   ],
   "metadata": {}
  },
  {
   "cell_type": "code",
   "execution_count": 19,
   "source": [
    "with torch.no_grad():\r\n",
    "    weights -= weights.grad * lr\r\n",
    "    bias -= bias.grad * lr\r\n",
    "    weights.grad.zero_()\r\n",
    "    bias.grad.zero_()"
   ],
   "outputs": [],
   "metadata": {}
  },
  {
   "cell_type": "markdown",
   "source": [
    "Now we can take advantage of model.parameters() and model.zero_grad() (which are both defined by PyTorch for nn.Module) to make those steps more concise and less prone to the error of forgetting some of our parameters, particularly if we had a more complicated model:"
   ],
   "metadata": {}
  },
  {
   "cell_type": "code",
   "execution_count": 20,
   "source": [
    "# with torch.no_grad():\r\n",
    "#     for p in model.parameters(): p -= p.grad * lr\r\n",
    "#     model.zero_grad()"
   ],
   "outputs": [],
   "metadata": {}
  },
  {
   "cell_type": "markdown",
   "source": [
    "We’ll wrap our little training loop in a fit function so we can run it again later."
   ],
   "metadata": {}
  },
  {
   "cell_type": "code",
   "execution_count": 21,
   "source": [
    "def fit():\r\n",
    "    for epoch in range(epochs):\r\n",
    "        for i in range((n - 1) // bs + 1):\r\n",
    "            start_i = i * bs\r\n",
    "            end_i = start_i + bs\r\n",
    "            xb = x_train[start_i: end_i]\r\n",
    "            yb = y_train[start_i: end_i]\r\n",
    "            pred = model(xb)\r\n",
    "            loss = loss_func(pred, yb)\r\n",
    "\r\n",
    "            loss.backward()\r\n",
    "            with torch.no_grad():\r\n",
    "                for p in model.parameters():\r\n",
    "                    p -= p.grad * lr\r\n",
    "                model.zero_grad()\r\n",
    "\r\n",
    "fit()"
   ],
   "outputs": [],
   "metadata": {}
  },
  {
   "cell_type": "markdown",
   "source": [
    "Let’s double-check that our loss has gone down:\n",
    "\n"
   ],
   "metadata": {}
  },
  {
   "cell_type": "code",
   "execution_count": 22,
   "source": [
    "print(loss_func(model(xb), yb))\r\n"
   ],
   "outputs": [
    {
     "output_type": "stream",
     "name": "stdout",
     "text": [
      "tensor(0.0812, grad_fn=<NllLossBackward>)\n"
     ]
    }
   ],
   "metadata": {}
  },
  {
   "cell_type": "markdown",
   "source": [
    "## Refactor using nn.Linear\n",
    "\n",
    "We continue to refactor our code. Instead of manually defining and initializing self.weights and self.bias, and calculating xb  @ self.weights + self.bias, we will instead use the Pytorch class nn.Linear for a linear layer, which does all that for us. Pytorch has many types of predefined layers that can greatly simplify our code, and often makes it faster too."
   ],
   "metadata": {}
  },
  {
   "cell_type": "code",
   "execution_count": 23,
   "source": [
    "class Mnist_Logistic(nn.Module):\r\n",
    "    def __init__(self):\r\n",
    "        super().__init__()\r\n",
    "        self.lin = nn.Linear(784, 10)\r\n",
    "\r\n",
    "    def forward(self, xb):\r\n",
    "        return self.lin(xb)"
   ],
   "outputs": [],
   "metadata": {}
  },
  {
   "cell_type": "markdown",
   "source": [
    "We instantiate our model and calculate the loss in the same way as before:\n",
    "\n"
   ],
   "metadata": {}
  },
  {
   "cell_type": "code",
   "execution_count": 24,
   "source": [
    "model = Mnist_Logistic()\r\n",
    "print(loss_func(model(xb), yb))"
   ],
   "outputs": [
    {
     "output_type": "stream",
     "name": "stdout",
     "text": [
      "tensor(2.3276, grad_fn=<NllLossBackward>)\n"
     ]
    }
   ],
   "metadata": {}
  },
  {
   "cell_type": "markdown",
   "source": [
    "We are still able to use our same fit method as before."
   ],
   "metadata": {}
  },
  {
   "cell_type": "code",
   "execution_count": 25,
   "source": [
    "fit()\r\n",
    "print(loss_func(model(xb), yb))"
   ],
   "outputs": [
    {
     "output_type": "stream",
     "name": "stdout",
     "text": [
      "tensor(0.0820, grad_fn=<NllLossBackward>)\n"
     ]
    }
   ],
   "metadata": {}
  },
  {
   "cell_type": "markdown",
   "source": [
    "## Refactor using optim\n",
    "\n",
    "Pytorch also has a package with various optimization algorithms, torch.optim. We can use the step method from our optimizer to take a forward step, instead of manually updating each parameter.\n",
    "\n",
    "This will let us replace our previous manually coded optimization step:\n",
    "\n",
    "```\n",
    "with torch.no_grad():\n",
    "    for p in model.parameters(): p -= p.grad * lr\n",
    "    model.zero_grad()\n",
    "```\n",
    "\n",
    "and instead use just:\n",
    "\n",
    "```\n",
    "\n",
    "opt.step()\n",
    "opt.zero_grad()\n",
    "\n",
    "```\n",
    "\n",
    "(```optim.zero_grad()``` resets the gradient to 0 and we need to call it before computing the gradient for the next minbatch.)"
   ],
   "metadata": {}
  },
  {
   "cell_type": "code",
   "execution_count": 26,
   "source": [
    "from torch import optim"
   ],
   "outputs": [],
   "metadata": {}
  },
  {
   "cell_type": "markdown",
   "source": [
    "We'll define a little function to create our model and optimizer so we can reuse it in the future."
   ],
   "metadata": {}
  },
  {
   "cell_type": "code",
   "execution_count": 27,
   "source": [
    "def get_model():\r\n",
    "    model = Mnist_Logistic()\r\n",
    "    return model, optim.SGD(model.parameters(), lr=lr)\r\n",
    "\r\n",
    "model, opt = get_model()\r\n",
    "\r\n",
    "x_train_set = x_train[0: bs]\r\n",
    "y_train_set = y_train[0: bs]\r\n",
    "print(loss_func(model(x_train_set), y_train_set))\r\n",
    "# print(loss_func(model(xb), yb)) => on tutorial => but the shape of xb is (16, 784) since the xb resigned by iteration of epochs\r\n",
    "# print(50000 % 64) === 16\r\n",
    "\r\n",
    "for epoch in range(epochs):\r\n",
    "    for i in range((n - 1) // bs + 1):\r\n",
    "        start_i = i * bs\r\n",
    "        end_i = start_i + bs\r\n",
    "        xb = x_train[start_i:end_i]\r\n",
    "        yb = y_train[start_i:end_i]\r\n",
    "\r\n",
    "        pred = model(xb)\r\n",
    "        loss = loss_func(pred, yb)\r\n",
    "\r\n",
    "        loss.backward()\r\n",
    "        opt.step()\r\n",
    "        opt.zero_grad()\r\n",
    "\r\n",
    "print(loss_func(model(x_train_set), y_train_set))\r\n",
    "\r\n",
    "# output will return similar loss every playback since we load the model all the time on the top."
   ],
   "outputs": [
    {
     "output_type": "stream",
     "name": "stdout",
     "text": [
      "tensor(2.2799, grad_fn=<NllLossBackward>)\n",
      "tensor(0.2276, grad_fn=<NllLossBackward>)\n"
     ]
    }
   ],
   "metadata": {}
  },
  {
   "cell_type": "markdown",
   "source": [
    "## Refactor using Dataset\n",
    "\n",
    "PyTorch has an abstract Dataset ```class```. A Dataset can be anything that has a ```__len__``` function (called by Python’s standard ```len``` function) and a ```__getitem__``` function as a way of indexing into it. This tutorial walks through a nice example of creating a custom ```FacialLandmarkDataset``` class as a subclass of ```Dataset```.\n",
    "\n",
    "PyTorch’s TensorDataset is a Dataset wrapping tensors. By defining a length and way of indexing, this also gives us a way to iterate, index, and slice along the first dimension of a tensor. This will make it easier to access both the independent and dependent variables in the same line as we train."
   ],
   "metadata": {}
  },
  {
   "cell_type": "code",
   "execution_count": 28,
   "source": [
    "from torch.utils.data import TensorDataset"
   ],
   "outputs": [],
   "metadata": {}
  },
  {
   "cell_type": "markdown",
   "source": [
    "Both x_train and y_train can be combined in a single TensorDataset, which will be easier to iterate over and slice.\n"
   ],
   "metadata": {}
  },
  {
   "cell_type": "code",
   "execution_count": 29,
   "source": [
    "train_ds = TensorDataset(x_train, y_train)"
   ],
   "outputs": [],
   "metadata": {}
  },
  {
   "cell_type": "markdown",
   "source": [
    "Previously, we had to iterate through minibatches of x and y values separately:\n",
    "\n",
    "```\n",
    "xb = x_train[start_i:end_i]\n",
    "yb = y_train[start_i:end_i]\n",
    "```\n",
    "\n",
    "Now, we can do these two steps together:\n",
    "\n",
    "```xb, yb = train_ds[i*bs + i*bs+bs]```"
   ],
   "metadata": {}
  },
  {
   "cell_type": "code",
   "execution_count": 30,
   "source": [
    "model, opt = get_model()\r\n",
    "\r\n",
    "for epoch in range(epochs):\r\n",
    "    for i in range((n - 1) // bs + 1):\r\n",
    "        xb, yb = train_ds[i * bs: i * bs + bs]\r\n",
    "        pred = model(xb)\r\n",
    "        loss = loss_func(pred, yb)\r\n",
    "\r\n",
    "        loss.backward()\r\n",
    "        opt.step()\r\n",
    "        opt.zero_grad()\r\n",
    "\r\n",
    "print(loss_func(model(xb), yb)) "
   ],
   "outputs": [
    {
     "output_type": "stream",
     "name": "stdout",
     "text": [
      "tensor(0.0822, grad_fn=<NllLossBackward>)\n"
     ]
    }
   ],
   "metadata": {}
  },
  {
   "cell_type": "markdown",
   "source": [
    "## Refactor using DataLoader\n",
    "\n",
    "Pytorch’s ```DataLoader``` is responsible for managing batches. You can create a ```DataLoader``` from any ```Dataset```. DataLoader makes it easier to iterate over batches. Rather than having to use ```train_ds[i*bs : i*bs+bs]```, the DataLoader gives us each minibatch automatically.\n",
    "\n",
    "\n",
    "\n"
   ],
   "metadata": {}
  },
  {
   "cell_type": "code",
   "execution_count": 31,
   "source": [
    "from torch.utils.data import DataLoader\r\n",
    "\r\n",
    "train_ds = TensorDataset(x_train, y_train)\r\n",
    "train_dl = DataLoader(train_ds, batch_size = bs)"
   ],
   "outputs": [],
   "metadata": {}
  },
  {
   "cell_type": "markdown",
   "source": [
    "Previously, our loop iterated over batches (xb, yb) like this:\n",
    "\n",
    "```\n",
    "for i in range((n-1)//bs + 1):\n",
    "    xb,yb = train_ds[i*bs : i*bs+bs]\n",
    "    pred = model(xb)\n",
    "```\n",
    "Now, our loop is much cleaner, as (xb, yb) are loaded automatically from the data loader:\n",
    "```\n",
    "for xb,yb in train_dl:\n",
    "    pred = model(xb)\n",
    "```"
   ],
   "metadata": {}
  },
  {
   "cell_type": "markdown",
   "source": [
    "### Take a Moment!\n",
    "\n",
    "**Refactor Process**\n",
    "\n",
    "```\n",
    "xb = x_train[start_i:end_i]\n",
    "yb = y_train[start_i:end_i]\n",
    "```\n",
    "\n",
    "After using ```torch.utils.data.TensorDataset```\n",
    "\n",
    "```\n",
    "xb, yb = train_ds[i*bs + i*bs+bs]\n",
    "```\n",
    "\n",
    "after using ```torch.utils.data.DataLoader```\n",
    "\n",
    "```\n",
    "for xb,yb in train_dl:\n",
    "    pred = model(xb)\n",
    "```\n",
    "\n"
   ],
   "metadata": {}
  },
  {
   "cell_type": "code",
   "execution_count": 32,
   "source": [
    "model, opt = get_model()\r\n",
    "\r\n",
    "for epoch in range(epochs):\r\n",
    "    for xb, yb in train_dl:\r\n",
    "        pred = model(xb)\r\n",
    "        loss = loss_func(pred, yb)\r\n",
    "\r\n",
    "        loss.backward()\r\n",
    "        opt.step()\r\n",
    "        opt.zero_grad()\r\n",
    "\r\n",
    "print(loss_func(model(xb), yb))"
   ],
   "outputs": [
    {
     "output_type": "stream",
     "name": "stdout",
     "text": [
      "tensor(0.0791, grad_fn=<NllLossBackward>)\n"
     ]
    }
   ],
   "metadata": {}
  },
  {
   "cell_type": "markdown",
   "source": [
    "Thanks to Pytorch’s nn.Module, nn.Parameter, Dataset, and DataLoader, our training loop is now dramatically smaller and easier to understand. Let’s now try to add the basic features necessary to create effective models in practice."
   ],
   "metadata": {}
  },
  {
   "cell_type": "markdown",
   "source": [
    "## Add Validation\n",
    "\n",
    "In section 1, we were just trying to get a reasonable training loop set up for use on our training data. In reality, you always should also have a validation set, in order to identify if you are overfitting.\n",
    "\n",
    "Shuffling the training data is important to prevent correlation between batches and overfitting. On the other hand, the validation loss will be identical whether we shuffle the validation set or not. Since shuffling takes extra time, it makes no sense to shuffle the validation data.\n",
    "\n",
    "We’ll use a batch size for the validation set that is twice as large as that for the training set. This is because the validation set does not need backpropagation and thus takes less memory (it doesn’t need to store the gradients). We take advantage of this to use a larger batch size and compute the loss more quickly."
   ],
   "metadata": {}
  },
  {
   "cell_type": "code",
   "execution_count": 33,
   "source": [
    "train_ds = TensorDataset(x_train, y_train)\r\n",
    "train_dl = DataLoader(train_ds, batch_size = bs, shuffle= True)\r\n",
    "\r\n",
    "valid_ds = TensorDataset(x_valid, y_valid)\r\n",
    "valid_dl = DataLoader(valid_ds, batch_size= bs* 2)"
   ],
   "outputs": [],
   "metadata": {}
  },
  {
   "cell_type": "markdown",
   "source": [
    "We will calculate and print the validation loss at the end of each epoch.\n",
    "\n",
    "(Note that we always call model.train() before training, and model.eval() before inference, because these are used by layers such as nn.BatchNorm2d and nn.Dropout to ensure appropriate behaviour for these different phases.)"
   ],
   "metadata": {}
  },
  {
   "cell_type": "code",
   "execution_count": 34,
   "source": [
    "model, opt = get_model()\r\n",
    "\r\n",
    "for epoch in range(epochs):\r\n",
    "    model.train()\r\n",
    "    for xb, yb in train_dl:\r\n",
    "        pred = model(xb)\r\n",
    "        loss = loss_func(pred, yb)\r\n",
    "\r\n",
    "        loss.backward()\r\n",
    "        \r\n",
    "        opt.step()\r\n",
    "        opt.zero_grad()\r\n",
    "\r\n",
    "    model.eval()\r\n",
    "    with torch.no_grad():\r\n",
    "        valid_loss = sum(loss_func(model(xb), yb) for xb, yb in valid_dl)\r\n",
    "\r\n",
    "    print(epoch, valid_loss / len(valid_dl))"
   ],
   "outputs": [
    {
     "output_type": "stream",
     "name": "stdout",
     "text": [
      "0 tensor(0.3216)\n",
      "1 tensor(0.3183)\n"
     ]
    }
   ],
   "metadata": {}
  },
  {
   "cell_type": "markdown",
   "source": [
    "## Create fit() and get_data()\n",
    "\n",
    "We’ll now do a little refactoring of our own. Since we go through a similar process twice of calculating the loss for both the training set and the validation set, let’s make that into its own function, loss_batch, which computes the loss for one batch.\n",
    "\n",
    "We pass an optimizer in for the training set, and use it to perform backprop. For the validation set, we don’t pass an optimizer, so the method doesn’t perform backprop."
   ],
   "metadata": {}
  },
  {
   "cell_type": "code",
   "execution_count": 35,
   "source": [
    "def loss_batch(model, loss_func, xb, yb, opt=None):\r\n",
    "    loss = loss_func(model(xb), yb)\r\n",
    "\r\n",
    "    if opt is not None:\r\n",
    "        loss.backward()\r\n",
    "        opt.step()\r\n",
    "        opt.zero_grad()\r\n",
    "\r\n",
    "    return loss.item(), len(xb)"
   ],
   "outputs": [],
   "metadata": {}
  },
  {
   "cell_type": "markdown",
   "source": [
    "```fit``` runs the necessary operations to train our model and compute the training and validation losses for each epoch.\n",
    "\n",
    "### Take a Moment\n",
    "\n",
    "```loss.item()```\n",
    "\n",
    "since loss is a tuple of tensor(loss_value, grad_fn), write ```loss.item()``` only returns the value of loss.\n",
    "\n",
    "i.e)\n",
    "loss : tensor(0.3109, grad_fn=<NllLossBackward>) loss.item() : 0.31085121631622314\n"
   ],
   "metadata": {}
  },
  {
   "cell_type": "markdown",
   "source": [
    "### Take a Moment!\n",
    "\n",
    "**List generator comprehension**\n",
    "\n",
    "if just write ```func for in``` without any wraps like ```loss_batch(model, loss_func, xb, yb) for xb, yb in valid_dl```\n",
    "\n",
    "the error occurs\n",
    "```\n",
    "File \"<ipython-input-332-9c7cab139303>\", line 12\n",
    "    print('just', loss_batch(model, loss_func, xb, yb) for xb, yb in valid_dl)\n",
    "                  ^\n",
    "SyntaxError: Generator expression must be parenthesized\n",
    "```\n",
    "**StackOverflow**\n",
    "\n",
    "\"It is in the form of a list or generator comprehension, but without the wrapping [] for the list or () for the generator.\" https://stackoverflow.com/questions/61945870/generator-expression-must-be-parenthesized-on-a-constraint\n",
    "\n",
    "---\n",
    "\n",
    "** *[] Method**\n",
    "\n",
    "\n",
    "Using * in front of a list expands out the members as individual arguments. So, the following two function calls will be equivalent:\n",
    "```\n",
    "my_function(*[1, 2, 3])\n",
    "my_function(1, 2, 3)\n",
    "```\n",
    "Obviously, the first one is not very useful if you already know the precise number of arguments. It becomes more useful with a comprehension like you are using, where is is not clear how many items will be in the list.\n",
    "https://stackoverflow.com/questions/45825344/understanding-in-python-passed-to-agg-in-pyspark\n",
    "\n",
    "---\n",
    "**At Below**\n",
    "\n",
    "```\n",
    "print('without: ', (loss_batch(model, loss_func, xb, yb) for xb, yb in valid_dl))\n",
    "\n",
    "print()\n",
    "\n",
    "print('with: ', *[loss_batch(model, loss_func, xb, yb) for xb, yb in valid_dl])\n",
    "```\n",
    "with:  (0.36518675088882446, 128) (0.4869171977043152, 128) ... lots of items... (0.0817655399441719, 16)\n",
    "\n",
    "without:  <generator object fit.<locals>.<genexpr> at 0x000002CCC6FC9430>\n"
   ],
   "metadata": {}
  },
  {
   "cell_type": "code",
   "execution_count": 36,
   "source": [
    "import numpy as np\r\n",
    "\r\n",
    "def fit(epochs, model, loss_func, opt, train_dl, valid_dl):\r\n",
    "    for epoch in range(epochs):\r\n",
    "        model.train()\r\n",
    "        for xb, yb in train_dl:\r\n",
    "            loss_batch(model, loss_func, xb, yb, opt)\r\n",
    "\r\n",
    "        model.eval()\r\n",
    "        with torch.no_grad():\r\n",
    "            losses, nums = zip(\r\n",
    "                *[loss_batch(model, loss_func, xb, yb) for xb, yb in valid_dl]\r\n",
    "            )\r\n",
    "        val_loss = np.sum(np.multiply(losses, nums)) / np.sum(nums)\r\n",
    "\r\n",
    "        print(epoch, val_loss)"
   ],
   "outputs": [],
   "metadata": {}
  },
  {
   "cell_type": "markdown",
   "source": [
    "```get_data``` returns dataloaders for the training and validation seets."
   ],
   "metadata": {}
  },
  {
   "cell_type": "code",
   "execution_count": 37,
   "source": [
    "def get_data(train_ds, valid_ds, bs):\r\n",
    "    return (\r\n",
    "        DataLoader(train_ds, batch_size = bs, shuffle=True),\r\n",
    "        DataLoader(valid_ds, batch_size = bs * 2)\r\n",
    "    )"
   ],
   "outputs": [],
   "metadata": {}
  },
  {
   "cell_type": "markdown",
   "source": [
    "Now, out whole process of obtaining the data loaders and fitting the model can be run in 3 lines of code:"
   ],
   "metadata": {}
  },
  {
   "cell_type": "code",
   "execution_count": 38,
   "source": [
    "train_dl, valid_dl = get_data(train_ds, valid_ds, bs)\r\n",
    "model, opt = get_model()\r\n",
    "fit(epochs, model, loss_func, opt, train_dl, valid_dl)"
   ],
   "outputs": [
    {
     "output_type": "stream",
     "name": "stdout",
     "text": [
      "0 0.3337272755146027\n",
      "1 0.2946182417869568\n"
     ]
    }
   ],
   "metadata": {
    "tags": []
   }
  },
  {
   "cell_type": "markdown",
   "source": [
    "You can use these basic 3 lines of code to train a wide variety of models. Let’s see if we can use them to train a convolutional neural network (CNN)!"
   ],
   "metadata": {}
  },
  {
   "cell_type": "markdown",
   "source": [
    "## Switch to CNN\n",
    "\n",
    "We are now going to build our neural network with three convolutional layers. Because none of the functions in the previous section assume anything about the model form, we’ll be able to use them to train a CNN without any modification.\n",
    "\n",
    "We will use Pytorch’s predefined ```Conv2d``` class as our convolutional layer. We define a CNN with 3 convolutional layers. Each convolution is followed by a ReLU. At the end, we perform an average pooling. (Note that ```view``` is PyTorch’s version of numpy’s ```reshape```)"
   ],
   "metadata": {}
  },
  {
   "cell_type": "code",
   "execution_count": 39,
   "source": [
    "class Mnist_CNN(nn.Module):\r\n",
    "    def __init__(self):\r\n",
    "        super().__init__()\r\n",
    "        self.conv1 = nn.Conv2d(1, 16, kernel_size = 3, stride = 2, padding = 1)\r\n",
    "        self.conv2 = nn.Conv2d(16, 16, kernel_size = 3, stride = 2, padding =1)\r\n",
    "        self.conv3 = nn.Conv2d(16, 10, kernel_size = 3, stride = 2, padding =1)\r\n",
    "\r\n",
    "    def forward(self, xb):\r\n",
    "        xb = xb.view(-1, 1 ,28, 28)\r\n",
    "        xb = F.relu(self.conv1(xb))\r\n",
    "        xb = F.relu(self.conv2(xb))\r\n",
    "        xb = F.relu(self.conv3(xb))\r\n",
    "        xb = F.avg_pool2d(xb, 4)\r\n",
    "        return xb.view(-1, xb.size(1))\r\n",
    "\r\n",
    "lr = 0.1"
   ],
   "outputs": [],
   "metadata": {}
  },
  {
   "cell_type": "markdown",
   "source": [
    "Momentum is a variation on stochastic gradient descent that takes previous updates into account as well and generally leads to faster training."
   ],
   "metadata": {}
  },
  {
   "cell_type": "code",
   "execution_count": 40,
   "source": [
    "model = Mnist_CNN()\r\n",
    "opt = optim.SGD(model.parameters(), lr= lr, momentum=0.9)\r\n",
    "\r\n",
    "fit(epochs, model, loss_func, opt, train_dl, valid_dl)"
   ],
   "outputs": [
    {
     "output_type": "stream",
     "name": "stdout",
     "text": [
      "0 0.35176084055900575\n",
      "1 0.23947991998791696\n"
     ]
    }
   ],
   "metadata": {
    "tags": []
   }
  },
  {
   "cell_type": "markdown",
   "source": [
    "## nn.Sequential\n",
    "\n",
    "```torch.nn``` has another handy class we can use to simplify our code: Sequential . A ```Sequential``` object runs each of the modules contained within it, in a sequential manner. This is a simpler way of writing our neural network.\n",
    "\n",
    "To take advantage of this, we need to be able to easily define a custom layer from a given function. For instance, PyTorch doesn’t have a view layer, and we need to create one for our network. ```Lambda will``` create a layer that we can then use when defining a network with ```Sequential```."
   ],
   "metadata": {}
  },
  {
   "cell_type": "markdown",
   "source": [
    "### Take a Moment!\n",
    "\n",
    "don't misunderstand!\n",
    "\n",
    "the subclass that supered the ```nn.Module``` automatically excute ```self.forward()``` when called.\n",
    "\n",
    "therefore, we can customize as a subclass of ```nn.Module``` as a various excutable function."
   ],
   "metadata": {}
  },
  {
   "cell_type": "code",
   "execution_count": 41,
   "source": [
    "class Lambda(nn.Module):\r\n",
    "    def __init__(self, func):\r\n",
    "        super().__init__()\r\n",
    "        self.func = func\r\n",
    "    \r\n",
    "    def forward(self, x):\r\n",
    "        return self.func(x)\r\n",
    "\r\n",
    "def preprocess(x):\r\n",
    "    return x.view(-1, 1, 28, 28)"
   ],
   "outputs": [],
   "metadata": {}
  },
  {
   "cell_type": "markdown",
   "source": [
    "The model created with ```Sequential``` is simply:"
   ],
   "metadata": {}
  },
  {
   "cell_type": "code",
   "execution_count": 42,
   "source": [
    "model = nn.Sequential(\r\n",
    "    Lambda(preprocess),\r\n",
    "    nn.Conv2d(1, 16, kernel_size = 3, stride=2, padding = 1),\r\n",
    "    nn.ReLU(),\r\n",
    "    nn.Conv2d(16, 16, kernel_size=3, stride = 2, padding=1),\r\n",
    "    nn.ReLU(),\r\n",
    "    nn.Conv2d(16, 10, kernel_size = 3, stride=2, padding=1),\r\n",
    "    nn.ReLU(),\r\n",
    "    nn.AvgPool2d(4),\r\n",
    "    Lambda(lambda x: x.view(x.size(0), -1)),\r\n",
    ")\r\n",
    "\r\n",
    "opt = optim.SGD(model.parameters(), lr=lr, momentum=0.9)\r\n",
    "\r\n",
    "fit(epochs, model, loss_func, opt, train_dl, valid_dl)"
   ],
   "outputs": [
    {
     "output_type": "stream",
     "name": "stdout",
     "text": [
      "0 0.34078812791109087\n",
      "1 0.24622460740804672\n"
     ]
    }
   ],
   "metadata": {}
  },
  {
   "cell_type": "markdown",
   "source": [
    "## Wrapping DataLoader\n",
    "\n",
    "Our CNN is fairly concise, but it only works with MNIST, because:\n",
    "It assumes the input is a 28*28 long vector\n",
    "It assumes that the final CNN grid size is 4*4 (since that’s the average\n",
    "pooling kernel size we used)\n",
    "\n",
    "Let’s get rid of these two assumptions, so our model works with any 2d single channel image. First, we can remove the initial Lambda layer by moving the data preprocessing into a generator:"
   ],
   "metadata": {}
  },
  {
   "cell_type": "markdown",
   "source": [
    "### Take a Moment!\n",
    "\n",
    "```def __len__(self)``` and ```def __iter__(self)``` overwrite the basic method of python class.\n",
    "\n",
    "it seems to make able to work len function and iterable for working mini-batching of dl (data loader)\n",
    "\n",
    "---\n",
    "\n",
    "### Python Iterators\n",
    "\n",
    "An iterator is an object that contains a countable number of values.\n",
    "\n",
    "An iterator is an object that can be iterated upon, meaning that you can traverse through all the values.\n",
    "\n",
    "Technically, in Python, an iterator is an object which implements the iterator protocol, which consist of the methods __iter__() and __next__().\n",
    "\n",
    "**Iterator vs Iterable**\n",
    "\n",
    "Lists, tuples, dictionaries, and sets are all iterable objects. They are iterable containers which you can get an iterator from.\n",
    "\n",
    "All these objects have a iter() method which is used to get an iterator: Tuple, List, String etc...\n",
    "\n",
    "---\n",
    "### Python iter() Function\n",
    "\n",
    "Create an iterator object, and print the items:"
   ],
   "metadata": {}
  },
  {
   "cell_type": "code",
   "execution_count": 43,
   "source": [
    "def preprocess(x, y):\r\n",
    "    return x.view(-1, 1, 28, 28), y\r\n",
    "\r\n",
    "class WrappedDataLoader:\r\n",
    "    def __init__(self, dl, func):\r\n",
    "        self.dl = dl\r\n",
    "        self.func = func\r\n",
    "    \r\n",
    "    def __len__(self):\r\n",
    "        return len(self.dl)\r\n",
    "\r\n",
    "    def __iter__(self):\r\n",
    "        batches = iter(self.dl)\r\n",
    "        for b in batches:\r\n",
    "            yield (self.func(*b))\r\n",
    "    \r\n",
    "train_dl, valid_dl = get_data(train_ds, valid_ds, bs)\r\n",
    "train_dl = WrappedDataLoader(train_dl, preprocess)\r\n",
    "valid_dl = WrappedDataLoader(valid_dl, preprocess)"
   ],
   "outputs": [],
   "metadata": {}
  },
  {
   "cell_type": "markdown",
   "source": [
    "Next, we can replace nn.AvgPool2d with nn.AdaptiveAvgPool2d, which allows us to define the size of the output tensor we want, rather than the input tensor we have. As a result, our model will work with any size input."
   ],
   "metadata": {}
  },
  {
   "cell_type": "code",
   "execution_count": 44,
   "source": [
    "model = nn.Sequential(\r\n",
    "    nn.Conv2d(1, 16, kernel_size = 3, stride = 2, padding = 1),\r\n",
    "    nn.ReLU(),\r\n",
    "    nn.Conv2d(16, 16, kernel_size = 3, stride = 2, padding = 1),\r\n",
    "    nn.ReLU(),\r\n",
    "    nn.Conv2d(16, 10, kernel_size = 3, stride = 2, padding = 1),\r\n",
    "    nn.ReLU(),\r\n",
    "    nn.AdaptiveAvgPool2d(1),\r\n",
    "    Lambda(lambda x: x.view(x.size(0), -1)),\r\n",
    ")\r\n",
    "\r\n",
    "opt = optim.SGD(model.parameters(), lr=lr, momentum=0.9)"
   ],
   "outputs": [],
   "metadata": {}
  },
  {
   "cell_type": "markdown",
   "source": [
    "Let's try it out:"
   ],
   "metadata": {}
  },
  {
   "cell_type": "code",
   "execution_count": 45,
   "source": [
    "fit(epochs, model, loss_func, opt, train_dl, valid_dl)"
   ],
   "outputs": [
    {
     "output_type": "stream",
     "name": "stdout",
     "text": [
      "0 0.3603211145401001\n",
      "1 0.23484419913887977\n"
     ]
    }
   ],
   "metadata": {}
  },
  {
   "cell_type": "markdown",
   "source": [
    "## Using your GPU\n",
    "\n",
    "If you’re lucky enough to have access to a CUDA-capable GPU (you can rent one for about $0.50/hour from most cloud providers) you can use it to speed up your code. First check that your GPU is working in Pytorch:"
   ],
   "metadata": {}
  },
  {
   "cell_type": "code",
   "execution_count": 46,
   "source": [
    "print(torch.cuda.is_available())"
   ],
   "outputs": [
    {
     "output_type": "stream",
     "name": "stdout",
     "text": [
      "True\n"
     ]
    }
   ],
   "metadata": {}
  },
  {
   "cell_type": "markdown",
   "source": [
    "And then create a device object for it:"
   ],
   "metadata": {}
  },
  {
   "cell_type": "code",
   "execution_count": 47,
   "source": [
    "dev = torch.device(\"cuda\") if torch.cuda.is_available() else torch.device(\"cpu\")"
   ],
   "outputs": [],
   "metadata": {}
  },
  {
   "cell_type": "markdown",
   "source": [
    "Let's update ```preprocess``` to move batches to the GPU:"
   ],
   "metadata": {}
  },
  {
   "cell_type": "code",
   "execution_count": 48,
   "source": [
    "def preprocess(x, y):\r\n",
    "    return x.view(-1, 1, 28, 28).to(dev), y.to(dev)\r\n",
    "\r\n",
    "train_dl, valid_dl = get_data(train_ds, valid_ds, bs)\r\n",
    "train_dl = WrappedDataLoader(train_dl, preprocess)\r\n",
    "valid_dl = WrappedDataLoader(valid_dl, preprocess)"
   ],
   "outputs": [],
   "metadata": {}
  },
  {
   "cell_type": "markdown",
   "source": [
    "Finally, we can move our model to the GPU."
   ],
   "metadata": {}
  },
  {
   "cell_type": "code",
   "execution_count": 49,
   "source": [
    "model.to(dev)\r\n",
    "opt = optim.SGD(model.parameters(), lr=lr, momentum=0.9)"
   ],
   "outputs": [],
   "metadata": {}
  },
  {
   "cell_type": "markdown",
   "source": [
    "You should find it runs faster now:"
   ],
   "metadata": {}
  },
  {
   "cell_type": "code",
   "execution_count": 50,
   "source": [
    "fit(epochs, model, loss_func, opt, train_dl, valid_dl)"
   ],
   "outputs": [
    {
     "output_type": "stream",
     "name": "stdout",
     "text": [
      "0 0.20165134150981903\n",
      "1 0.17803776004314423\n"
     ]
    }
   ],
   "metadata": {}
  },
  {
   "cell_type": "markdown",
   "source": [
    "# Closing thoughts\n",
    "We now have a general data pipeline and training loop which you can use for training many types of models using Pytorch. To see how simple training a model can now be, take a look at the ***mnist_sample*** sample notebook.\n",
    "\n",
    "Of course, there are many things you’ll want to add, such as data augmentation, hyperparameter tuning, monitoring training, transfer learning, and so forth. These features are available in the fastai library, which has been developed using the same design approach shown in this tutorial, providing a natural next step for practitioners looking to take their models further.\n",
    "\n",
    "We promised at the start of this tutorial we’d explain through example each of ```torch.nn```, ```torch.optim```, ```Dataset```, and ```DataLoader```. So let’s summarize what we’ve seen:\n",
    "\n",
    "**torch.nn**\n",
    "\n",
    "- ```Module```: creates a callable which behaves like a function, but can also contain state(such as neural net layer weights). It knows what Parameter (s) it contains and can zero all their gradients, loop through them for weight updates, etc.\n",
    "- ```Parameter```: a wrapper for a tensor that tells a Module that it has weights that need updating during backprop. Only tensors with the requires_grad attribute set are updated\n",
    "- ```functional```: a module(usually imported into the F namespace by convention) which contains activation functions, loss functions, etc, as well as non-stateful versions of layers such as convolutional and linear layers.\n",
    "\n",
    "**```torch.optim```**: Contains optimizers such as SGD, which update the weights of Parameter during the backward step\n",
    "\n",
    "**```Dataset```**: An abstract interface of objects with a __len__ and a __getitem__, including classes provided with Pytorch such as TensorDataset\n",
    "\n",
    "**```DataLoader```**: Takes any Dataset and creates an iterator which returns batches of data."
   ],
   "metadata": {}
  }
 ]
}